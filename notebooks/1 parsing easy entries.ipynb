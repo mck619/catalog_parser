{
 "cells": [
  {
   "cell_type": "code",
   "execution_count": 3,
   "metadata": {},
   "outputs": [],
   "source": [
    "import pandas as pd\n",
    "import re\n",
    "from collections import OrderedDict"
   ]
  },
  {
   "cell_type": "code",
   "execution_count": 4,
   "metadata": {},
   "outputs": [],
   "source": [
    "with open('../artforum index v3.txt') as f:\n",
    "    catalog = f.read()\n",
    "    \n",
    "catalog = catalog.replace(\"NOTE: Please read issue and page references as in the following example:\", \"\") #removing troublesome note lines\n",
    "catalog = catalog.replace(\"VI:8, 40-5 April 1968 = Volume VI (6), number 8, pages 40 through 45 April 1968\", \"\")"
   ]
  },
  {
   "cell_type": "code",
   "execution_count": 5,
   "metadata": {},
   "outputs": [],
   "source": [
    "split_on_index = re.split(r'^([A-Z]{1})$', catalog, flags=re.MULTILINE)"
   ]
  },
  {
   "cell_type": "code",
   "execution_count": 6,
   "metadata": {},
   "outputs": [
    {
     "name": "stdout",
     "output_type": "stream",
     "text": [
      "odict_keys(['A', 'B', 'C', 'D', 'E', 'F', 'G', 'H', 'I', 'J', 'K', 'L', 'M', 'N', 'O', 'P', 'Q', 'R', 'S', 'T', 'U', 'V', 'W', 'Y', 'Z'])\n"
     ]
    }
   ],
   "source": [
    "intro = split_on_index[0]\n",
    "del split_on_index[0]\n",
    "all_entries = OrderedDict(zip(split_on_index[0::2], split_on_index[1::2]))\n",
    "print (all_entries.keys())"
   ]
  },
  {
   "cell_type": "code",
   "execution_count": 8,
   "metadata": {
    "scrolled": true
   },
   "outputs": [],
   "source": [
    "writer = pd.ExcelWriter('catalog_tabulated.xlsx', engine='xlsxwriter')\n",
    "\n",
    "for index_letter, content in all_entries.items():\n",
    "    regex_str = r'^({}[A-Z]*\\b.*)$'.format(index_letter)\n",
    "    entries = re.split(regex_str, content, flags=re.MULTILINE)\n",
    "    title_data_list = []\n",
    "    del entries[0]  ## first string returned by split is notes and blank lines\n",
    "    title = None\n",
    "    data = None\n",
    "    for entry in entries:\n",
    "        if re.match(regex_str, entry):\n",
    "            title_data_list.append((title, data))\n",
    "            title = entry.strip()\n",
    "            data = None\n",
    "        else:\n",
    "            data = entry.strip()\n",
    "    \n",
    "    if title_data_list[0][0] is None and title_data_list[0][1] is None:\n",
    "        del title_data_list[0]\n",
    "    \n",
    "    df = pd.DataFrame(title_data_list)\n",
    "    df.columns = ['entry_title', 'entry_data']\n",
    "    \n",
    "    df.to_excel(writer, sheet_name=index_letter)\n",
    "    \n",
    "    \n",
    "writer.save()"
   ]
  },
  {
   "cell_type": "code",
   "execution_count": 89,
   "metadata": {},
   "outputs": [],
   "source": [
    "#todo\n",
    "\n",
    "def parse_entry_title(title_string):\n",
    "    pass\n",
    "\n",
    "def parse_entry_data(data_string):\n",
    "    pass"
   ]
  }
 ],
 "metadata": {
  "kernelspec": {
   "display_name": "Python 3",
   "language": "python",
   "name": "python3"
  },
  "language_info": {
   "codemirror_mode": {
    "name": "ipython",
    "version": 3
   },
   "file_extension": ".py",
   "mimetype": "text/x-python",
   "name": "python",
   "nbconvert_exporter": "python",
   "pygments_lexer": "ipython3",
   "version": "3.6.1"
  }
 },
 "nbformat": 4,
 "nbformat_minor": 2
}
